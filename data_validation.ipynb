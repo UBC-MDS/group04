{
 "cells": [
  {
   "cell_type": "markdown",
   "metadata": {},
   "source": [
    "# Data Validation\n",
    "\n",
    "This notebook will be used for data validation.\n",
    "1. Pre-processing data (e.g., scale and split into train & test)\n",
    "2. Validate data (screating schema)"
   ]
  }
 ],
 "metadata": {
  "language_info": {
   "name": "python"
  }
 },
 "nbformat": 4,
 "nbformat_minor": 2
}
