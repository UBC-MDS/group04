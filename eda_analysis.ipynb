{
 "cells": [
  {
   "cell_type": "markdown",
   "id": "a5d1956a-dd4a-440c-8884-1b0cf8169643",
   "metadata": {},
   "source": [
    "# EDA Analysis on TTC Bus Delay Data"
   ]
  },
  {
   "cell_type": "markdown",
   "id": "efdeb88b-bb16-4526-b5ee-4416436f52c5",
   "metadata": {},
   "source": [
    "This data was sourced from open.toronto.ca website. Raw data can be found [here](https://open.toronto.ca/dataset/ttc-bus-delay-data/).\n",
    "\n",
    "While there are multiple years of data available on this website, we are using 2024 data.\n",
    "\n",
    "Let's get started with the EDA!"
   ]
  },
  {
   "cell_type": "code",
   "execution_count": 2,
   "id": "62137a60-6ccb-4eb9-a06a-bac32d3d1ec5",
   "metadata": {},
   "outputs": [
    {
     "data": {
      "text/plain": [
       "DataTransformerRegistry.enable('vegafusion')"
      ]
     },
     "execution_count": 2,
     "metadata": {},
     "output_type": "execute_result"
    }
   ],
   "source": [
    "# This code block will be used for all library imports. \n",
    "import pandas as pd\n",
    "import altair as alt\n",
    "\n",
    "# Simplify working with large datasets in Altair\n",
    "alt.data_transformers.enable('vegafusion')"
   ]
  },
  {
   "cell_type": "markdown",
   "id": "a95fc150-35ea-4af5-a7a9-072f2ca321cd",
   "metadata": {},
   "source": [
    "## Loading In Data"
   ]
  },
  {
   "cell_type": "code",
   "execution_count": 32,
   "id": "e2e179f6-d233-46c1-8955-016f62535a7f",
   "metadata": {},
   "outputs": [
    {
     "name": "stderr",
     "output_type": "stream",
     "text": [
      "/var/folders/sy/sq6z9ljj34g_lpl7p_k4z8kh0000gn/T/ipykernel_92162/1195397876.py:1: UserWarning: Could not infer format, so each element will be parsed individually, falling back to `dateutil`. To ensure parsing is consistent and as-expected, please specify a format.\n",
      "  ttc = pd.read_csv('data/ttc-bus-delay-data-2024.csv', parse_dates=['Date'])\n"
     ]
    }
   ],
   "source": [
    "ttc = pd.read_csv('data/ttc-bus-delay-data-2024.csv', parse_dates=['Date'])"
   ]
  },
  {
   "cell_type": "code",
   "execution_count": 33,
   "id": "38962e5b-02fe-4893-816e-d68aaab345d9",
   "metadata": {},
   "outputs": [
    {
     "data": {
      "text/html": [
       "<div>\n",
       "<style scoped>\n",
       "    .dataframe tbody tr th:only-of-type {\n",
       "        vertical-align: middle;\n",
       "    }\n",
       "\n",
       "    .dataframe tbody tr th {\n",
       "        vertical-align: top;\n",
       "    }\n",
       "\n",
       "    .dataframe thead th {\n",
       "        text-align: right;\n",
       "    }\n",
       "</style>\n",
       "<table border=\"1\" class=\"dataframe\">\n",
       "  <thead>\n",
       "    <tr style=\"text-align: right;\">\n",
       "      <th></th>\n",
       "      <th>Date</th>\n",
       "      <th>Route</th>\n",
       "      <th>Time</th>\n",
       "      <th>Day</th>\n",
       "      <th>Location</th>\n",
       "      <th>Incident</th>\n",
       "      <th>Min Delay</th>\n",
       "      <th>Min Gap</th>\n",
       "      <th>Direction</th>\n",
       "      <th>Vehicle</th>\n",
       "    </tr>\n",
       "  </thead>\n",
       "  <tbody>\n",
       "    <tr>\n",
       "      <th>0</th>\n",
       "      <td>2024-01-01</td>\n",
       "      <td>89</td>\n",
       "      <td>02:08</td>\n",
       "      <td>Monday</td>\n",
       "      <td>KEELE AND GLENLAKE</td>\n",
       "      <td>Vision</td>\n",
       "      <td>10</td>\n",
       "      <td>20</td>\n",
       "      <td>N</td>\n",
       "      <td>7107</td>\n",
       "    </tr>\n",
       "    <tr>\n",
       "      <th>1</th>\n",
       "      <td>2024-01-01</td>\n",
       "      <td>39</td>\n",
       "      <td>02:30</td>\n",
       "      <td>Monday</td>\n",
       "      <td>FINCH STATION</td>\n",
       "      <td>General Delay</td>\n",
       "      <td>20</td>\n",
       "      <td>40</td>\n",
       "      <td>NaN</td>\n",
       "      <td>8914</td>\n",
       "    </tr>\n",
       "    <tr>\n",
       "      <th>2</th>\n",
       "      <td>2024-01-01</td>\n",
       "      <td>300</td>\n",
       "      <td>03:13</td>\n",
       "      <td>Monday</td>\n",
       "      <td>BLOOR AND MANNING</td>\n",
       "      <td>General Delay</td>\n",
       "      <td>0</td>\n",
       "      <td>0</td>\n",
       "      <td>NaN</td>\n",
       "      <td>8562</td>\n",
       "    </tr>\n",
       "    <tr>\n",
       "      <th>3</th>\n",
       "      <td>2024-01-01</td>\n",
       "      <td>65</td>\n",
       "      <td>03:23</td>\n",
       "      <td>Monday</td>\n",
       "      <td>PARLIAMENT AND BLOOR</td>\n",
       "      <td>Security</td>\n",
       "      <td>0</td>\n",
       "      <td>0</td>\n",
       "      <td>N</td>\n",
       "      <td>8574</td>\n",
       "    </tr>\n",
       "    <tr>\n",
       "      <th>4</th>\n",
       "      <td>2024-01-01</td>\n",
       "      <td>113</td>\n",
       "      <td>03:37</td>\n",
       "      <td>Monday</td>\n",
       "      <td>MAIN STATION</td>\n",
       "      <td>Security</td>\n",
       "      <td>0</td>\n",
       "      <td>0</td>\n",
       "      <td>NaN</td>\n",
       "      <td>8541</td>\n",
       "    </tr>\n",
       "  </tbody>\n",
       "</table>\n",
       "</div>"
      ],
      "text/plain": [
       "        Date Route   Time     Day              Location       Incident  \\\n",
       "0 2024-01-01    89  02:08  Monday    KEELE AND GLENLAKE         Vision   \n",
       "1 2024-01-01    39  02:30  Monday         FINCH STATION  General Delay   \n",
       "2 2024-01-01   300  03:13  Monday     BLOOR AND MANNING  General Delay   \n",
       "3 2024-01-01    65  03:23  Monday  PARLIAMENT AND BLOOR       Security   \n",
       "4 2024-01-01   113  03:37  Monday          MAIN STATION       Security   \n",
       "\n",
       "   Min Delay  Min Gap Direction  Vehicle  \n",
       "0         10       20         N     7107  \n",
       "1         20       40       NaN     8914  \n",
       "2          0        0       NaN     8562  \n",
       "3          0        0         N     8574  \n",
       "4          0        0       NaN     8541  "
      ]
     },
     "execution_count": 33,
     "metadata": {},
     "output_type": "execute_result"
    }
   ],
   "source": [
    "ttc.head()"
   ]
  },
  {
   "cell_type": "code",
   "execution_count": 34,
   "id": "f161f328-8fe8-4cf7-9d8e-2e37fe495940",
   "metadata": {},
   "outputs": [
    {
     "name": "stdout",
     "output_type": "stream",
     "text": [
      "<class 'pandas.core.frame.DataFrame'>\n",
      "RangeIndex: 45300 entries, 0 to 45299\n",
      "Data columns (total 10 columns):\n",
      " #   Column     Non-Null Count  Dtype         \n",
      "---  ------     --------------  -----         \n",
      " 0   Date       45300 non-null  datetime64[ns]\n",
      " 1   Route      44861 non-null  object        \n",
      " 2   Time       45300 non-null  object        \n",
      " 3   Day        45300 non-null  object        \n",
      " 4   Location   45300 non-null  object        \n",
      " 5   Incident   45300 non-null  object        \n",
      " 6   Min Delay  45300 non-null  int64         \n",
      " 7   Min Gap    45300 non-null  int64         \n",
      " 8   Direction  38343 non-null  object        \n",
      " 9   Vehicle    45300 non-null  int64         \n",
      "dtypes: datetime64[ns](1), int64(3), object(6)\n",
      "memory usage: 3.5+ MB\n"
     ]
    }
   ],
   "source": [
    "ttc.info()"
   ]
  },
  {
   "cell_type": "code",
   "execution_count": null,
   "id": "5260e630-5324-4292-8c37-459a0102b74a",
   "metadata": {},
   "outputs": [],
   "source": []
  }
 ],
 "metadata": {
  "kernelspec": {
   "display_name": "Python [conda env:group04] *",
   "language": "python",
   "name": "conda-env-group04-py"
  },
  "language_info": {
   "codemirror_mode": {
    "name": "ipython",
    "version": 3
   },
   "file_extension": ".py",
   "mimetype": "text/x-python",
   "name": "python",
   "nbconvert_exporter": "python",
   "pygments_lexer": "ipython3",
   "version": "3.12.7"
  }
 },
 "nbformat": 4,
 "nbformat_minor": 5
}
