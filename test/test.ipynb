{
 "cells": [
  {
   "cell_type": "code",
   "execution_count": 1,
   "id": "34807580-d1c3-4ccc-8dc0-f7562cade8dd",
   "metadata": {},
   "outputs": [
    {
     "ename": "ModuleNotFoundError",
     "evalue": "No module named 'pytest'",
     "output_type": "error",
     "traceback": [
      "\u001b[0;31m---------------------------------------------------------------------------\u001b[0m",
      "\u001b[0;31mModuleNotFoundError\u001b[0m                       Traceback (most recent call last)",
      "Cell \u001b[0;32mIn[1], line 1\u001b[0m\n\u001b[0;32m----> 1\u001b[0m \u001b[38;5;28;01mimport\u001b[39;00m \u001b[38;5;21;01mpytest\u001b[39;00m\n\u001b[1;32m      2\u001b[0m \u001b[38;5;28;01mimport\u001b[39;00m \u001b[38;5;21;01mpandas\u001b[39;00m \u001b[38;5;28;01mas\u001b[39;00m \u001b[38;5;21;01mpd\u001b[39;00m\n\u001b[1;32m      3\u001b[0m \u001b[38;5;28;01mimport\u001b[39;00m \u001b[38;5;21;01msys\u001b[39;00m\n",
      "\u001b[0;31mModuleNotFoundError\u001b[0m: No module named 'pytest'"
     ]
    }
   ],
   "source": [
    "import pytest\n",
    "import pandas as pd\n",
    "import sys\n",
    "sys.path.append(os.path.join(os.path.dirname(__file__), '..'))\n",
    "from src.functions import load_and_clean_data\n",
    "\n",
    "def test_load_and_clean_data():\n",
    "    # Mock dataset\n",
    "    test_data = pd.DataFrame({\n",
    "        \"Date\": [\"2024-01-01\", \"2024-02-02\"],\n",
    "        \"Time\": [\"12:00\", \"15:30\"],\n",
    "        \"Direction\": [\"North\", \"South\"],\n",
    "        \"Vehicle\": [\"Bus\", \"Train\"],\n",
    "        \"Min Delay\": [10, 20]\n",
    "    })\n",
    "    test_data.to_csv(\"test.csv\", index=False)\n",
    "\n",
    "    result = load_and_clean_data(\"test.csv\")\n",
    "\n",
    "    assert \"Direction\" not in result.columns\n",
    "    assert \"Vehicle\" not in result.columns\n",
    "    assert \"Date\" not in result.columns\n",
    "    assert \"Time\" not in result.columns\n",
    "    assert \"Month\" in result.columns\n",
    "    assert \"Hour\" in result.columns\n",
    "    os.remove(\"test.csv\")  # Cleanup after test"
   ]
  },
  {
   "cell_type": "code",
   "execution_count": null,
   "id": "436dc3b4-10a8-4558-b0c5-02555a8a3ed6",
   "metadata": {},
   "outputs": [],
   "source": []
  }
 ],
 "metadata": {
  "kernelspec": {
   "display_name": "Python 3 (ipykernel)",
   "language": "python",
   "name": "python3"
  },
  "language_info": {
   "codemirror_mode": {
    "name": "ipython",
    "version": 3
   },
   "file_extension": ".py",
   "mimetype": "text/x-python",
   "name": "python",
   "nbconvert_exporter": "python",
   "pygments_lexer": "ipython3",
   "version": "3.11.10"
  }
 },
 "nbformat": 4,
 "nbformat_minor": 5
}
