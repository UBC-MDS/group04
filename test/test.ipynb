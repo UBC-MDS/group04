{
 "cells": [
  {
   "cell_type": "code",
   "execution_count": 18,
   "id": "34807580-d1c3-4ccc-8dc0-f7562cade8dd",
   "metadata": {},
   "outputs": [
    {
     "ename": "ModuleNotFoundError",
     "evalue": "No module named 'src'",
     "output_type": "error",
     "traceback": [
      "\u001b[0;31m---------------------------------------------------------------------------\u001b[0m",
      "\u001b[0;31mModuleNotFoundError\u001b[0m                       Traceback (most recent call last)",
      "Cell \u001b[0;32mIn[18], line 6\u001b[0m\n\u001b[1;32m      4\u001b[0m sys\u001b[38;5;241m.\u001b[39mpath \u001b[38;5;241m=\u001b[39m \u001b[38;5;28mlist\u001b[39m(\u001b[38;5;28mset\u001b[39m(sys\u001b[38;5;241m.\u001b[39mpath))\n\u001b[1;32m      5\u001b[0m sys\u001b[38;5;241m.\u001b[39mpath\u001b[38;5;241m.\u001b[39mappend(\u001b[38;5;124m'\u001b[39m\u001b[38;5;124m/Users/yichunliu/group04/src\u001b[39m\u001b[38;5;124m'\u001b[39m)\n\u001b[0;32m----> 6\u001b[0m \u001b[38;5;28;01mfrom\u001b[39;00m \u001b[38;5;21;01msrc\u001b[39;00m\u001b[38;5;21;01m.\u001b[39;00m\u001b[38;5;21;01mfunctions\u001b[39;00m \u001b[38;5;28;01mimport\u001b[39;00m load_and_clean_data\n\u001b[1;32m      8\u001b[0m \u001b[38;5;28;01mdef\u001b[39;00m \u001b[38;5;21mtest_load_and_clean_data\u001b[39m():\n\u001b[1;32m      9\u001b[0m     \u001b[38;5;66;03m# Mock dataset\u001b[39;00m\n\u001b[1;32m     10\u001b[0m     test_data \u001b[38;5;241m=\u001b[39m pd\u001b[38;5;241m.\u001b[39mDataFrame({\n\u001b[1;32m     11\u001b[0m         \u001b[38;5;124m\"\u001b[39m\u001b[38;5;124mDate\u001b[39m\u001b[38;5;124m\"\u001b[39m: [\u001b[38;5;124m\"\u001b[39m\u001b[38;5;124m2024-01-01\u001b[39m\u001b[38;5;124m\"\u001b[39m, \u001b[38;5;124m\"\u001b[39m\u001b[38;5;124m2024-02-02\u001b[39m\u001b[38;5;124m\"\u001b[39m],\n\u001b[1;32m     12\u001b[0m         \u001b[38;5;124m\"\u001b[39m\u001b[38;5;124mTime\u001b[39m\u001b[38;5;124m\"\u001b[39m: [\u001b[38;5;124m\"\u001b[39m\u001b[38;5;124m12:00\u001b[39m\u001b[38;5;124m\"\u001b[39m, \u001b[38;5;124m\"\u001b[39m\u001b[38;5;124m15:30\u001b[39m\u001b[38;5;124m\"\u001b[39m],\n\u001b[0;32m   (...)\u001b[0m\n\u001b[1;32m     15\u001b[0m         \u001b[38;5;124m\"\u001b[39m\u001b[38;5;124mMin Delay\u001b[39m\u001b[38;5;124m\"\u001b[39m: [\u001b[38;5;241m10\u001b[39m, \u001b[38;5;241m20\u001b[39m]\n\u001b[1;32m     16\u001b[0m     })\n",
      "\u001b[0;31mModuleNotFoundError\u001b[0m: No module named 'src'"
     ]
    }
   ],
   "source": [
    "import pytest\n",
    "import pandas as pd\n",
    "import sys\n",
    "sys.path = list(set(sys.path))\n",
    "sys.path.append('/Users/yichunliu/group04/src')\n",
    "from src.functions import load_and_clean_data\n",
    "\n",
    "def test_load_and_clean_data():\n",
    "    # Mock dataset\n",
    "    test_data = pd.DataFrame({\n",
    "        \"Date\": [\"2024-01-01\", \"2024-02-02\"],\n",
    "        \"Time\": [\"12:00\", \"15:30\"],\n",
    "        \"Direction\": [\"North\", \"South\"],\n",
    "        \"Vehicle\": [\"Bus\", \"Train\"],\n",
    "        \"Min Delay\": [10, 20]\n",
    "    })\n",
    "    test_data.to_csv(\"test.csv\", index=False)\n",
    "\n",
    "    result = load_and_clean_data(\"test.csv\")\n",
    "\n",
    "    assert \"Direction\" not in result.columns\n",
    "    assert \"Vehicle\" not in result.columns\n",
    "    assert \"Date\" not in result.columns\n",
    "    assert \"Time\" not in result.columns\n",
    "    assert \"Month\" in result.columns\n",
    "    assert \"Hour\" in result.columns\n",
    "    os.remove(\"test.csv\")  # Cleanup after test"
   ]
  }
 ],
 "metadata": {
  "kernelspec": {
   "display_name": "Python 3 (ipykernel)",
   "language": "python",
   "name": "python3"
  },
  "language_info": {
   "codemirror_mode": {
    "name": "ipython",
    "version": 3
   },
   "file_extension": ".py",
   "mimetype": "text/x-python",
   "name": "python",
   "nbconvert_exporter": "python",
   "pygments_lexer": "ipython3",
   "version": "3.12.7"
  }
 },
 "nbformat": 4,
 "nbformat_minor": 5
}
